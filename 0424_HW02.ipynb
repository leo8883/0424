{
 "cells": [
  {
   "cell_type": "code",
   "execution_count": null,
   "metadata": {},
   "outputs": [],
   "source": [
    "while True:\n",
    "    luckyNumber = input(\"請輸入你的幸運數字： \")\n",
    "    if luckyNumber == \"q\":\n",
    "        print(\"Bye Bye\\n下次再來玩\\n\")\n",
    "        break\n",
    "    elif luckyNumber == \"8\":\n",
    "        print(\"答對啦！\\n你怎麼知道答案的！！\\n\")\n",
    "        break\n",
    "    else:\n",
    "        print(\"錯啦\\n我才不會跟你說答案是8勒\\n\")"
   ]
  }
 ],
 "metadata": {
  "kernelspec": {
   "display_name": "Python 3",
   "language": "python",
   "name": "python3"
  },
  "language_info": {
   "codemirror_mode": {
    "name": "ipython",
    "version": 3
   },
   "file_extension": ".py",
   "mimetype": "text/x-python",
   "name": "python",
   "nbconvert_exporter": "python",
   "pygments_lexer": "ipython3",
   "version": "3.7.1rc1"
  }
 },
 "nbformat": 4,
 "nbformat_minor": 2
}
